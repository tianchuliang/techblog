{
 "cells": [
  {
   "cell_type": "code",
   "execution_count": 1,
   "metadata": {},
   "outputs": [
    {
     "name": "stderr",
     "output_type": "stream",
     "text": [
      "/usr/local/lib/python3.6/site-packages/h5py/__init__.py:36: FutureWarning: Conversion of the second argument of issubdtype from `float` to `np.floating` is deprecated. In future, it will be treated as `np.float64 == np.dtype(float).type`.\n",
      "  from ._conv import register_converters as _register_converters\n",
      "Using TensorFlow backend.\n"
     ]
    }
   ],
   "source": [
    "import sys, math\n",
    "import numpy as np\n",
    "\n",
    "import Box2D\n",
    "from Box2D.b2 import (edgeShape, circleShape, fixtureDef, polygonShape, revoluteJointDef, contactListener)\n",
    "\n",
    "import gym\n",
    "from gym import spaces\n",
    "from gym.utils import seeding\n",
    "import skvideo.io\n",
    "from keras.models import Sequential\n",
    "from keras.layers import Dense\n",
    "from lunar_lander import * "
   ]
  },
  {
   "cell_type": "markdown",
   "metadata": {},
   "source": [
    "# Training:\n"
   ]
  },
  {
   "cell_type": "code",
   "execution_count": null,
   "metadata": {
    "scrolled": true
   },
   "outputs": [],
   "source": [
    "# Initialize training data\n",
    "X_train, y_train = [],[]\n",
    "frames = []\n",
    "\n",
    "if __name__==\"__main__\":\n",
    "    # Initialize lunar lander environment \n",
    "    env = LunarLanderContinuous()\n",
    "    prev_s = env.reset()\n",
    "    total_reward = 0\n",
    "    steps = 0\n",
    "    a = np.array([0.0,0.0])\n",
    "    modelTrained = False\n",
    "    model = nnmodel(10)\n",
    "    tr = 0 \n",
    "    prev_r = 0\n",
    "    training_thr = 3000\n",
    "    total_itrs = 50000\n",
    "    successful_steps = []\n",
    "    \n",
    "    while steps <= total_itrs:\n",
    "        new_s, r, done, info = env.step(a)\n",
    "        X_train.append(list(prev_s)+list(a))\n",
    "        y_train.append(r)\n",
    "        \n",
    "        if steps > training_thr and steps %50 ==0:\n",
    "            # re-train a model \n",
    "            print(\"training model model\")\n",
    "            modelTrained = True\n",
    "            model.fit(np.array(X_train),np.array(y_train).reshape(len(y_train),1), epochs = 10, batch_size=20)\n",
    "\n",
    "        if modelTrained:\n",
    "            maxr = -1000\n",
    "            maxa = None\n",
    "            for i in range(100):\n",
    "                a1 = np.random.randint(-1000,1000)/1000\n",
    "                a2 = np.random.randint(-1000,1000)/1000\n",
    "                testa = [a1,a2]\n",
    "                r_pred = model.predict(np.array(list(new_s)+list(testa)).reshape(1,len(list(new_s)+list(testa))))\n",
    "                if r_pred > maxr:\n",
    "                    maxr = r_pred\n",
    "                    maxa = testa\n",
    "            a = np.array(maxa)\n",
    "            \n",
    "        else:\n",
    "            a = np.array([np.random.randint(-1000,1000)/1000,\\\n",
    "                 np.random.randint(-1000,1000)/1000])\n",
    "    \n",
    "        if steps %100 == 0:\n",
    "            print(\"At step \", steps)\n",
    "            print(\"reward: \", r)\n",
    "            print(\"total rewards \", tr)\n",
    "        prev_s = new_s\n",
    "        prev_r = r\n",
    "        \n",
    "        if (steps >= training_thr and tr < -500) or done:\n",
    "            print(prev_s)\n",
    "            if done and prev_r >= 200:\n",
    "                successful_steps.append(steps)\n",
    "                print(\"Successful Landing!!! \",steps)\n",
    "                print(\"Total successes are: \", len(successful_steps))\n",
    "            env.reset()\n",
    "            tr = 0 \n",
    "            \n",
    "        tr = tr + r\n",
    "        \n",
    "        steps += 1\n",
    "#         env.render(mode='human')\n",
    "        frame = env.render(mode='rgb_array')\n",
    "        frames.append(frame)\n",
    "        if steps >= training_thr and steps %5000 == 0:\n",
    "            fname = \"videos/frame\"+str(steps)+\".mp4\"\n",
    "            skvideo.io.vwrite(fname, np.array(frames))\n",
    "            del frames\n",
    "            frames = []"
   ]
  },
  {
   "cell_type": "code",
   "execution_count": null,
   "metadata": {},
   "outputs": [],
   "source": [
    "from keras.models import load_model\n",
    "model = load_model(\"50000iter.h5\")"
   ]
  },
  {
   "cell_type": "markdown",
   "metadata": {},
   "source": [
    "# Test the trained model"
   ]
  },
  {
   "cell_type": "code",
   "execution_count": null,
   "metadata": {},
   "outputs": [],
   "source": [
    "if __name__==\"__main__\":\n",
    "    env = LunarLanderContinuous()\n",
    "    prev_s = env.reset()\n",
    "    total_reward = 0\n",
    "    steps = 0\n",
    "    a = np.array([0.0,0.0])\n",
    "    modelTrained = True\n",
    "    tr = 0 \n",
    "    prev_r = 0\n",
    "    total_itrs = 1000\n",
    "    while steps <= total_itrs:\n",
    "        \n",
    "        new_s, r, done, info = env.step(a)\n",
    "\n",
    "        if modelTrained:\n",
    "            maxr = -1000\n",
    "            maxa = None\n",
    "            for i in range(100):\n",
    "                a1 = np.random.randint(-1000,1000)/1000\n",
    "                a2 = np.random.randint(-1000,1000)/1000\n",
    "                testa = [a1,a2]\n",
    "                r_pred = model.predict(np.array(list(new_s)+list(testa)).reshape(1,len(list(new_s)+list(testa))))\n",
    "                if r_pred > maxr:\n",
    "                    maxr = r_pred\n",
    "                    maxa = testa\n",
    "            a = np.array(maxa)\n",
    "            \n",
    "        else:\n",
    "            a = np.array([np.random.randint(-1000,1000)/1000,\\\n",
    "                 np.random.randint(-1000,1000)/1000])\n",
    "    \n",
    "        if steps %100 == 0:\n",
    "            print(\"At step \", steps)\n",
    "            print(\"reward: \", r)\n",
    "            print(\"total rewards \", tr)\n",
    "        prev_s = new_s\n",
    "        prev_r = r\n",
    "        if done:\n",
    "            print(prev_s)\n",
    "            if done and prev_r >= 200:\n",
    "                print(\"Successful Landing!!! \",steps)\n",
    "                print(\"Total successes are: \", len(successful_steps))\n",
    "            env.reset()\n",
    "            tr = 0 \n",
    "        tr = tr + r\n",
    "        \n",
    "        steps += 1\n",
    "        env.render(mode='human')\n"
   ]
  },
  {
   "cell_type": "code",
   "execution_count": null,
   "metadata": {},
   "outputs": [],
   "source": []
  }
 ],
 "metadata": {
  "kernelspec": {
   "display_name": "Python 3",
   "language": "python",
   "name": "python3"
  },
  "language_info": {
   "codemirror_mode": {
    "name": "ipython",
    "version": 3
   },
   "file_extension": ".py",
   "mimetype": "text/x-python",
   "name": "python",
   "nbconvert_exporter": "python",
   "pygments_lexer": "ipython3",
   "version": "3.6.5"
  }
 },
 "nbformat": 4,
 "nbformat_minor": 2
}
