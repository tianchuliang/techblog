{
 "cells": [
  {
   "cell_type": "code",
   "execution_count": 19,
   "metadata": {},
   "outputs": [],
   "source": [
    "# imports\n",
    "from __future__ import absolute_import, division, print_function\n",
    "import numpy as np\n",
    "import pandas as pd\n",
    "import tensorflow as tf\n",
    "from sklearn import ensemble\n",
    "from sklearn.preprocessing import OneHotEncoder"
   ]
  },
  {
   "cell_type": "code",
   "execution_count": 4,
   "metadata": {},
   "outputs": [],
   "source": [
    "tf.logging.set_verbosity(tf.logging.ERROR)\n",
    "tf.set_random_seed(123)\n",
    "\n",
    "CATEGORICAL_COLUMNS = ['sex', \n",
    "                       'n_siblings_spouses', \n",
    "                       'parch', \n",
    "                       'class', \n",
    "                       'deck', \n",
    "                       'embark_town', \n",
    "                       'alone']\n",
    "NUMERIC_COLUMNS = ['age', 'fare']\n",
    "\n",
    "def one_hot_cat_column(feature_name, vocab):\n",
    "  return tf.feature_column.indicator_column(\n",
    "      tf.feature_column.categorical_column_with_vocabulary_list(feature_name,\n",
    "                                                 vocab))\n",
    "\n",
    "def make_input_fn(X, y, num_examples, n_epochs=None, shuffle=True):\n",
    "  def input_fn():\n",
    "    dataset = tf.data.Dataset.from_tensor_slices((X.to_dict(orient='list'), y))\n",
    "    if shuffle:\n",
    "      dataset = dataset.shuffle(num_examples)\n",
    "    # For training, cycle thru dataset as many times as need (n_epochs=None).    \n",
    "    dataset = (dataset\n",
    "      .repeat(n_epochs)\n",
    "      .batch(num_examples)) \n",
    "    return dataset\n",
    "  return input_fn"
   ]
  },
  {
   "cell_type": "code",
   "execution_count": 5,
   "metadata": {},
   "outputs": [],
   "source": [
    "# Load dataset.\n",
    "dftrain = pd.read_csv('https://storage.googleapis.com/tfbt/titanic_train.csv')\n",
    "dfeval = pd.read_csv('https://storage.googleapis.com/tfbt/titanic_eval.csv')\n",
    "y_train = dftrain.pop('survived')\n",
    "y_eval = dfeval.pop('survived')"
   ]
  },
  {
   "cell_type": "code",
   "execution_count": 6,
   "metadata": {},
   "outputs": [],
   "source": [
    "# feature engineering \n",
    "feature_columns = []\n",
    "for feature_name in CATEGORICAL_COLUMNS + NUMERIC_COLUMNS:\n",
    "    # one hot categoricals\n",
    "    if feature_name in CATEGORICAL_COLUMNS:\n",
    "        vocabulary = dftrain[feature_name].unique()\n",
    "        feature_columns.append(one_hot_cat_column(feature_name, vocabulary))\n",
    "    # force numerical dtype to float16\n",
    "    elif feature_name in NUMERIC_COLUMNS:\n",
    "        feature_columns.append(tf.feature_column.numeric_column(feature_name,\n",
    "                                               dtype=tf.float16))        "
   ]
  },
  {
   "cell_type": "markdown",
   "metadata": {},
   "source": [
    "# Prepare Comparison Params"
   ]
  },
  {
   "cell_type": "code",
   "execution_count": 11,
   "metadata": {},
   "outputs": [],
   "source": [
    "ntrees = 50\n",
    "maxdepth = 3"
   ]
  },
  {
   "cell_type": "markdown",
   "metadata": {},
   "source": [
    "# Train & Evaluate TF BoostedTrees"
   ]
  },
  {
   "cell_type": "code",
   "execution_count": null,
   "metadata": {},
   "outputs": [],
   "source": [
    "params = {\n",
    "  'n_trees': ntrees,\n",
    "  'max_depth': maxdepth,\n",
    "  'n_batches_per_layer': 1,\n",
    "  'center_bias': True\n",
    "}\n",
    "\n",
    "est = tf.estimator.BoostedTreesClassifier(feature_columns, **params)\n",
    "est.train(make_input_fn(dftrain, y_train, len(y_train)), max_steps=100)\n",
    "results = est.evaluate(make_input_fn(dfeval, y_eval, len(y_train), shuffle=False, n_epochs=1))\n",
    "pd.Series(results).to_frame()"
   ]
  },
  {
   "cell_type": "markdown",
   "metadata": {},
   "source": [
    "# Train & Evaluate SKlean BoostedTrees"
   ]
  },
  {
   "cell_type": "code",
   "execution_count": 12,
   "metadata": {},
   "outputs": [],
   "source": [
    "clf = ensemble.GradientBoostingClassifier(n_estimators = ntrees,\\\n",
    "                                          max_depth = maxdepth)"
   ]
  },
  {
   "cell_type": "code",
   "execution_count": 18,
   "metadata": {},
   "outputs": [],
   "source": [
    "skdftrain = dftrain.copy()"
   ]
  },
  {
   "cell_type": "code",
   "execution_count": 20,
   "metadata": {},
   "outputs": [],
   "source": [
    "enc = OneHotEncoder(handle_unknown='ignore')"
   ]
  },
  {
   "cell_type": "code",
   "execution_count": 21,
   "metadata": {},
   "outputs": [],
   "source": [
    "skdftrain = enc.fit_transform(skdftrain)"
   ]
  },
  {
   "cell_type": "code",
   "execution_count": 40,
   "metadata": {},
   "outputs": [],
   "source": [
    "tfds = make_input_fn(dftrain, y_train, len(y_train))()"
   ]
  },
  {
   "cell_type": "code",
   "execution_count": 45,
   "metadata": {},
   "outputs": [
    {
     "data": {
      "text/plain": [
       "<DatasetV1Adapter shapes: ({sex: (?, ?), age: (?, ?), n_siblings_spouses: (?, ?), parch: (?, ?), fare: (?, ?), class: (?, ?), deck: (?, ?), embark_town: (?, ?), alone: (?, ?)}, (?, ?)), types: ({sex: tf.string, age: tf.float32, n_siblings_spouses: tf.int32, parch: tf.int32, fare: tf.float32, class: tf.string, deck: tf.string, embark_town: tf.string, alone: tf.string}, tf.int64)>"
      ]
     },
     "execution_count": 45,
     "metadata": {},
     "output_type": "execute_result"
    }
   ],
   "source": [
    "tfds.batch(100)"
   ]
  },
  {
   "cell_type": "code",
   "execution_count": null,
   "metadata": {},
   "outputs": [],
   "source": []
  }
 ],
 "metadata": {
  "kernelspec": {
   "display_name": "Python 3",
   "language": "python",
   "name": "python3"
  },
  "language_info": {
   "codemirror_mode": {
    "name": "ipython",
    "version": 3
   },
   "file_extension": ".py",
   "mimetype": "text/x-python",
   "name": "python",
   "nbconvert_exporter": "python",
   "pygments_lexer": "ipython3",
   "version": "3.6.6"
  }
 },
 "nbformat": 4,
 "nbformat_minor": 4
}
