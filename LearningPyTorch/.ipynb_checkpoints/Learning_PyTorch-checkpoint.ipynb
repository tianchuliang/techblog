{
 "cells": [
  {
   "cell_type": "markdown",
   "metadata": {},
   "source": [
    "# Implementing Neural Nets with Numpy "
   ]
  },
  {
   "cell_type": "code",
   "execution_count": 1,
   "metadata": {},
   "outputs": [],
   "source": [
    "import numpy as np\n",
    "import matplotlib.pyplot as plt"
   ]
  },
  {
   "cell_type": "markdown",
   "metadata": {},
   "source": [
    "As with any NN, we need to define \n",
    "1. N, batch size (how many data points we batch together to feed into the network for each training iteration)\n",
    "2. D_in"
   ]
  },
  {
   "cell_type": "code",
   "execution_count": 2,
   "metadata": {},
   "outputs": [],
   "source": [
    "N, D_in, H, D_out = 64, 1000, 100, 10\n",
    "x = np.random.randn(N, D_in)\n",
    "y = np.random.randn(N, D_out)\n",
    "w1 = np.random.randn(D_in, H)\n",
    "w2 = np.random.randn(H, D_out)\n",
    "learning_rate = 1e-6"
   ]
  },
  {
   "cell_type": "code",
   "execution_count": 3,
   "metadata": {},
   "outputs": [],
   "source": [
    "def forward(x, w1, w2):\n",
    "    h = x.dot(w1)\n",
    "    h_relu = np.maximum(h, 0)\n",
    "    y_pred = h_relu.dot(w2)\n",
    "    return h,h_relu,y_pred \n",
    "\n",
    "def backprop(y_pred,y,w2,x):\n",
    "    grad_y_pred = 2.0 * (y_pred - y)\n",
    "    grad_w2 = h_relu.T.dot(grad_y_pred)\n",
    "    grad_h_relu = grad_y_pred.dot(w2.T)\n",
    "    grad_h = grad_h_relu.copy()\n",
    "    grad_h[h < 0] = 0\n",
    "    grad_w1 = x.T.dot(grad_h)\n",
    "    return grad_w1,grad_w2\n",
    "\n",
    "def update_weights(learning_rate, wts, grads):\n",
    "    wts = [wts[i] - learning_rate * grads[i] for i in range(len(grads))]\n",
    "    return wts"
   ]
  },
  {
   "cell_type": "code",
   "execution_count": 4,
   "metadata": {
    "scrolled": true
   },
   "outputs": [
    {
     "name": "stdout",
     "output_type": "stream",
     "text": [
      "0 25821717.79594508\n",
      "10 2990815.177038224\n",
      "20 227958.96683542518\n",
      "30 72527.36720239455\n",
      "40 27961.29320001861\n",
      "50 11880.112144158691\n",
      "60 5380.362705199739\n",
      "70 2545.897482907582\n",
      "80 1245.3431924239312\n",
      "90 624.9581993955965\n",
      "100 320.2348613321201\n",
      "110 167.33291976395515\n",
      "120 88.8152181174022\n",
      "130 47.7252230712143\n",
      "140 25.920790522282537\n",
      "150 14.209109787031826\n",
      "160 7.8520446822132195\n",
      "170 4.369968528844953\n",
      "180 2.447307484721206\n",
      "190 1.3781972657884225\n",
      "200 0.7799313257244906\n",
      "210 0.44332902648636324\n",
      "220 0.2529947194111715\n",
      "230 0.14488079533582207\n",
      "240 0.08323144775276493\n",
      "250 0.04795127498920168\n",
      "260 0.02769625436983872\n",
      "270 0.016033158612897818\n",
      "280 0.009300558287029442\n",
      "290 0.005405152812189648\n",
      "300 0.0031464521613622314\n",
      "310 0.001834383675435549\n",
      "320 0.0010708575092865313\n",
      "330 0.0006259054870571197\n",
      "340 0.00036623321506733025\n",
      "350 0.00021451211607372085\n",
      "360 0.0001257545364392423\n",
      "370 7.378339550583401e-05\n",
      "380 4.332232927972118e-05\n",
      "390 2.5453728709243733e-05\n",
      "400 1.4964762563234315e-05\n",
      "410 8.802640699564468e-06\n",
      "420 5.180838909080549e-06\n",
      "430 3.0505341145513233e-06\n",
      "440 1.7969062266929062e-06\n",
      "450 1.058922598774865e-06\n",
      "460 6.242382866360144e-07\n",
      "470 3.681106370226414e-07\n",
      "480 2.171460589750339e-07\n",
      "490 1.281238102996225e-07\n"
     ]
    }
   ],
   "source": [
    "losses = []\n",
    "for t in range(500):\n",
    "    # Forward pass: compute predicted y\n",
    "    h,h_relu,y_pred = forward(x, w1, w2)\n",
    "\n",
    "    # Compute and print loss\n",
    "    loss = np.square(y_pred - y).sum()\n",
    "    losses.append(loss)\n",
    "    if t%10 == 0:\n",
    "        print(t,loss)\n",
    "    # Backprop to compute gradients of w1 and w2 with respect to loss\n",
    "    grad_w1, grad_w2 = backprop(y_pred, y, w2, x)\n",
    "\n",
    "    # Update weights\n",
    "    newwts = update_weights(learning_rate, [w1,w2],[grad_w1,grad_w2])\n",
    "    w1 = newwts[0]\n",
    "    w2 = newwts[1]"
   ]
  },
  {
   "cell_type": "code",
   "execution_count": 5,
   "metadata": {},
   "outputs": [
    {
     "data": {
      "text/plain": [
       "[<matplotlib.lines.Line2D at 0x108151a20>]"
      ]
     },
     "execution_count": 5,
     "metadata": {},
     "output_type": "execute_result"
    },
    {
     "data": {
      "image/png": "[encoded data removed]",
      "text/plain": [
       "<matplotlib.figure.Figure at 0x107500860>"
      ]
     },
     "metadata": {},
     "output_type": "display_data"
    }
   ],
   "source": [
    "plt.plot(losses)"
   ]
  },
  {
   "cell_type": "markdown",
   "metadata": {},
   "source": [
    "# Implementing Neural Nets with PyTorch Tensor"
   ]
  },
  {
   "cell_type": "code",
   "execution_count": 6,
   "metadata": {},
   "outputs": [],
   "source": [
    "import torch \n",
    "dtype = torch.float\n",
    "device = torch.device(\"cpu\")\n",
    "x = torch.randn(N, D_in, device=device, dtype=dtype)\n",
    "y = torch.randn(N, D_out, device=device, dtype=dtype)\n",
    "w1 = torch.randn(D_in, H, device=device, dtype=dtype)\n",
    "w2 = torch.randn(H, D_out, device=device, dtype=dtype)"
   ]
  },
  {
   "cell_type": "code",
   "execution_count": 7,
   "metadata": {},
   "outputs": [],
   "source": [
    "def forward(x, w1, w2):\n",
    "    h = x.mm(w1)\n",
    "    h_relu = h.clamp(min=0)\n",
    "    y_pred = h_relu.mm(w2)\n",
    "    return h,h_relu,y_pred \n",
    "\n",
    "def backprop(y_pred,y,w2,x):\n",
    "    grad_y_pred = 2.0 * (y_pred - y)\n",
    "    grad_w2 = h_relu.t().mm(grad_y_pred)\n",
    "    grad_h_relu = grad_y_pred.mm(w2.t())\n",
    "    grad_h = grad_h_relu.clone()\n",
    "    grad_h[h < 0] = 0\n",
    "    grad_w1 = x.t().mm(grad_h)\n",
    "    return grad_w1,grad_w2\n",
    "\n",
    "def update_weights(learning_rate, wts, grads):\n",
    "    wts = [wts[i] - learning_rate * grads[i] for i in range(len(grads))]\n",
    "    return wts"
   ]
  },
  {
   "cell_type": "code",
   "execution_count": 8,
   "metadata": {
    "scrolled": true
   },
   "outputs": [
    {
     "name": "stdout",
     "output_type": "stream",
     "text": [
      "0 tensor(2.6598e+07)\n",
      "10 tensor(1.00000e+06 *\n",
      "       2.8419)\n",
      "20 tensor(1.00000e+05 *\n",
      "       2.2178)\n",
      "30 tensor(67892.1172)\n",
      "40 tensor(26809.6094)\n",
      "50 tensor(11988.1670)\n",
      "60 tensor(5802.9707)\n",
      "70 tensor(2969.6003)\n",
      "80 tensor(1582.7921)\n",
      "90 tensor(868.9327)\n",
      "100 tensor(488.3370)\n",
      "110 tensor(279.6025)\n",
      "120 tensor(162.5007)\n",
      "130 tensor(95.5657)\n",
      "140 tensor(56.7578)\n",
      "150 tensor(33.9919)\n",
      "160 tensor(20.5045)\n",
      "170 tensor(12.4466)\n",
      "180 tensor(7.5963)\n",
      "190 tensor(4.6592)\n",
      "200 tensor(2.8702)\n",
      "210 tensor(1.7752)\n",
      "220 tensor(1.1018)\n",
      "230 tensor(0.6862)\n",
      "240 tensor(0.4287)\n",
      "250 tensor(0.2685)\n",
      "260 tensor(0.1686)\n",
      "270 tensor(0.1062)\n",
      "280 tensor(1.00000e-02 *\n",
      "       6.7001)\n",
      "290 tensor(1.00000e-02 *\n",
      "       4.2414)\n",
      "300 tensor(1.00000e-02 *\n",
      "       2.6917)\n",
      "310 tensor(1.00000e-02 *\n",
      "       1.7159)\n",
      "320 tensor(1.00000e-02 *\n",
      "       1.1007)\n",
      "330 tensor(1.00000e-03 *\n",
      "       7.1183)\n",
      "340 tensor(1.00000e-03 *\n",
      "       4.6564)\n",
      "350 tensor(1.00000e-03 *\n",
      "       3.0992)\n",
      "360 tensor(1.00000e-03 *\n",
      "       2.0996)\n",
      "370 tensor(1.00000e-03 *\n",
      "       1.4569)\n",
      "380 tensor(1.00000e-03 *\n",
      "       1.0351)\n",
      "390 tensor(1.00000e-04 *\n",
      "       7.5332)\n",
      "400 tensor(1.00000e-04 *\n",
      "       5.6060)\n",
      "410 tensor(1.00000e-04 *\n",
      "       4.2620)\n",
      "420 tensor(1.00000e-04 *\n",
      "       3.2967)\n",
      "430 tensor(1.00000e-04 *\n",
      "       2.6052)\n",
      "440 tensor(1.00000e-04 *\n",
      "       2.0823)\n",
      "450 tensor(1.00000e-04 *\n",
      "       1.7000)\n",
      "460 tensor(1.00000e-04 *\n",
      "       1.4068)\n",
      "470 tensor(1.00000e-04 *\n",
      "       1.1741)\n",
      "480 tensor(1.00000e-05 *\n",
      "       9.9372)\n",
      "490 tensor(1.00000e-05 *\n",
      "       8.5533)\n"
     ]
    }
   ],
   "source": [
    "losses = []\n",
    "for t in range(500):\n",
    "    # Forward pass: compute predicted y\n",
    "    h,h_relu,y_pred = forward(x, w1, w2)\n",
    "\n",
    "    # Compute and print loss\n",
    "    loss = np.square(y_pred - y).sum()\n",
    "    losses.append(loss)\n",
    "    if t%10 == 0:\n",
    "        print(t,loss)\n",
    "    # Backprop to compute gradients of w1 and w2 with respect to loss\n",
    "    grad_w1, grad_w2 = backprop(y_pred, y, w2, x)\n",
    "\n",
    "    # Update weights\n",
    "    newwts = update_weights(learning_rate, [w1,w2],[grad_w1,grad_w2])\n",
    "    w1 = newwts[0]\n",
    "    w2 = newwts[1]"
   ]
  },
  {
   "cell_type": "code",
   "execution_count": 9,
   "metadata": {},
   "outputs": [
    {
     "data": {
      "text/plain": [
       "[<matplotlib.lines.Line2D at 0x10acb5da0>]"
      ]
     },
     "execution_count": 9,
     "metadata": {},
     "output_type": "execute_result"
    },
    {
     "data": {
      "image/png": "[encoded data removed]",
      "text/plain": [
       "<matplotlib.figure.Figure at 0x10816e128>"
      ]
     },
     "metadata": {},
     "output_type": "display_data"
    }
   ],
   "source": [
    "plt.plot(losses)"
   ]
  },
  {
   "cell_type": "markdown",
   "metadata": {},
   "source": [
    "# PyTorch AutoGrad"
   ]
  },
  {
   "cell_type": "code",
   "execution_count": null,
   "metadata": {},
   "outputs": [],
   "source": [
    "# Create random Tensors for weights.\n",
    "# Setting requires_grad=True indicates that we want to compute gradients with\n",
    "# respect to these Tensors during the backward pass.\n",
    "w1 = torch.randn(D_in, H, device=device, dtype=dtype, requires_grad=True)\n",
    "w2 = torch.randn(H, D_out, device=device, dtype=dtype, requires_grad=True)"
   ]
  },
  {
   "cell_type": "code",
   "execution_count": null,
   "metadata": {},
   "outputs": [],
   "source": [
    "learning_rate = 1e-6\n",
    "losses = []\n",
    "for t in range(500):\n",
    "    # Forward pass: we chain operations on x by using the . notation \n",
    "    # consecutively, kind of like Scala\n",
    "    y_pred = x.mm(w1).clamp(min=0).mm(w2)\n",
    "\n",
    "    # Compute and print loss using operations on Tensors..\n",
    "    loss = (y_pred - y).pow(2).sum()\n",
    "    losses.append(loss)\n",
    "    if t%10 == 0:\n",
    "        print(t, loss.item())\n",
    "\n",
    "    # Use autograd to compute the backward pass. This is dependent on setting \n",
    "    # grad_required to True in the weights variables. This is really cool; this\n",
    "    # means PyTorch tensors inherently can be configureed to be \"differentiable\"\n",
    "    # when needed. \n",
    "    loss.backward()\n",
    "\n",
    "    # Manually update weights using gradient descent. Wrap in torch.no_grad()\n",
    "    # because weights have requires_grad=True, but we don't need to track this\n",
    "    # in autograd.\n",
    "    # An alternative way is to operate on weight.data and weight.grad.data.\n",
    "    # Recall that tensor.data gives a tensor that shares the storage with\n",
    "    # tensor, but doesn't track history.\n",
    "    # You can also use torch.optim.SGD to achieve this.\n",
    "    with torch.no_grad():\n",
    "        w1 -= learning_rate * w1.grad\n",
    "        w2 -= learning_rate * w2.grad\n",
    "\n",
    "        # Manually zero the gradients after updating weights\n",
    "        w1.grad.zero_()\n",
    "        w2.grad.zero_()"
   ]
  }
 ],
 "metadata": {
  "kernelspec": {
   "display_name": "Python 3",
   "language": "python",
   "name": "python3"
  },
  "language_info": {
   "codemirror_mode": {
    "name": "ipython",
    "version": 3
   },
   "file_extension": ".py",
   "mimetype": "text/x-python",
   "name": "python",
   "nbconvert_exporter": "python",
   "pygments_lexer": "ipython3",
   "version": "3.6.4"
  }
 },
 "nbformat": 4,
 "nbformat_minor": 2
}
